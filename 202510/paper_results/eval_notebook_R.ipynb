{
 "cells": [
  {
   "cell_type": "markdown",
   "metadata": {},
   "source": [
    "# R notebook"
   ]
  },
  {
   "cell_type": "code",
   "execution_count": 1,
   "metadata": {},
   "outputs": [],
   "source": [
    "# auxiliary functions\n",
    "\n",
    "# H function\n",
    "H<-function(a1,a2, a3, a4, a5, a6){\n",
    "  integrand <- function(y){(y^a6)*exp(-a1*y - (a2*(y^(a3)) + a4)^(a5))}\n",
    "  integralv<-integrate(integrand, 0, Inf)$value\n",
    "  return (integralv) \n",
    "}\n",
    "\n",
    "\n",
    "# density function\n",
    "# y: data set\n",
    "dg=function(y,param){\n",
    "  theta1=param[1]\n",
    "  theta2=param[2]\n",
    "  theta3=param[3]\n",
    "  theta4=param[4]\n",
    "  theta5=param[5]\n",
    "  theta6=param[6]\n",
    "  \n",
    "  c_theta=H(theta1, theta2, theta3, theta4, theta5, theta6)\n",
    "  \n",
    "  return((1/c_theta)*(y^theta6)*exp(-theta1*y-((theta2*y^theta3)+theta4)^theta5))\n",
    "}\n",
    "\n",
    "#cumulative probability function\n",
    "pg=function(x,param){\n",
    "  theta1=param[1]\n",
    "  theta2=param[2]\n",
    "  theta3=param[3]\n",
    "  theta4=param[4]\n",
    "  theta5=param[5]\n",
    "  theta6=param[6]\n",
    "  c_theta=H(theta1, theta2, theta3, theta4, theta5, theta6)\n",
    "  \n",
    "  integrand <- function(y){(y^theta6)*exp(-theta1*y - (theta2*(y^(theta3)) + theta4)^(theta5))}\n",
    "  integralv<-NULL\n",
    "  for(i in 1:length(x)){\n",
    "    integralv[i]<-(integrate(integrand, 0, x[i])$value)/c_theta\n",
    "    \n",
    "  }\n",
    "  return(integralv)\n",
    "}\n"
   ]
  },
  {
   "cell_type": "code",
   "execution_count": 2,
   "metadata": {},
   "outputs": [
    {
     "data": {
      "text/html": [
       "<style>\n",
       ".list-inline {list-style: none; margin:0; padding: 0}\n",
       ".list-inline>li {display: inline-block}\n",
       ".list-inline>li:not(:last-child)::after {content: \"\\00b7\"; padding: 0 .5ex}\n",
       "</style>\n",
       "<ol class=list-inline><li>2.3394166017538</li><li>1.57368946245533</li><li>1.10811391627523</li><li>0.798963460157448</li><li>0.584840019576842</li><li>0.432725469345998</li><li>0.322792102667421</li><li>0.242343883650704</li><li>0.182906220229383</li><li>0.138656341821488</li><li>0.105507837425229</li><li>0.0805461923839151</li><li>0.0616661632679333</li><li>0.0473314309000528</li><li>0.0364113741949728</li><li>0.0280680498856328</li><li>0.0216766964944125</li><li>0.0167690903396778</li><li>0.012992745951508</li><li>0.0100812591170015</li><li>0.00783258032293647</li><li>0.00609299021104185</li><li>0.00474521089870542</li><li>0.00369954005727444</li><li>0.00288720892530227</li><li>0.00225538611917729</li><li>0.00176340571053126</li><li>0.00137991020912484</li><li>0.00108068009000093</li><li>0.000846980420787677</li><li>0.000664298276718348</li><li>0.000521376389084672</li><li>0.000409471977974623</li><li>0.000321787198419552</li><li>0.000253030680887356</li><li>0.00019907943095913</li><li>0.00015671771298575</li><li>0.000123435096849183</li><li>9.72700509873873e-05</li><li>7.66886554833402e-05</li><li>6.04904366165039e-05</li><li>4.77351755957717e-05</li><li>3.76859590762514e-05</li><li>2.97648225615185e-05</li><li>2.35181690725527e-05</li><li>1.85897843502349e-05</li><li>1.46997616811002e-05</li><li>1.16280286288388e-05</li><li>9.2014607314415e-06</li><li>7.28379358652893e-06</li></ol>\n"
      ],
      "text/latex": [
       "\\begin{enumerate*}\n",
       "\\item 2.3394166017538\n",
       "\\item 1.57368946245533\n",
       "\\item 1.10811391627523\n",
       "\\item 0.798963460157448\n",
       "\\item 0.584840019576842\n",
       "\\item 0.432725469345998\n",
       "\\item 0.322792102667421\n",
       "\\item 0.242343883650704\n",
       "\\item 0.182906220229383\n",
       "\\item 0.138656341821488\n",
       "\\item 0.105507837425229\n",
       "\\item 0.0805461923839151\n",
       "\\item 0.0616661632679333\n",
       "\\item 0.0473314309000528\n",
       "\\item 0.0364113741949728\n",
       "\\item 0.0280680498856328\n",
       "\\item 0.0216766964944125\n",
       "\\item 0.0167690903396778\n",
       "\\item 0.012992745951508\n",
       "\\item 0.0100812591170015\n",
       "\\item 0.00783258032293647\n",
       "\\item 0.00609299021104185\n",
       "\\item 0.00474521089870542\n",
       "\\item 0.00369954005727444\n",
       "\\item 0.00288720892530227\n",
       "\\item 0.00225538611917729\n",
       "\\item 0.00176340571053126\n",
       "\\item 0.00137991020912484\n",
       "\\item 0.00108068009000093\n",
       "\\item 0.000846980420787677\n",
       "\\item 0.000664298276718348\n",
       "\\item 0.000521376389084672\n",
       "\\item 0.000409471977974623\n",
       "\\item 0.000321787198419552\n",
       "\\item 0.000253030680887356\n",
       "\\item 0.00019907943095913\n",
       "\\item 0.00015671771298575\n",
       "\\item 0.000123435096849183\n",
       "\\item 9.72700509873873e-05\n",
       "\\item 7.66886554833402e-05\n",
       "\\item 6.04904366165039e-05\n",
       "\\item 4.77351755957717e-05\n",
       "\\item 3.76859590762514e-05\n",
       "\\item 2.97648225615185e-05\n",
       "\\item 2.35181690725527e-05\n",
       "\\item 1.85897843502349e-05\n",
       "\\item 1.46997616811002e-05\n",
       "\\item 1.16280286288388e-05\n",
       "\\item 9.2014607314415e-06\n",
       "\\item 7.28379358652893e-06\n",
       "\\end{enumerate*}\n"
      ],
      "text/markdown": [
       "1. 2.3394166017538\n",
       "2. 1.57368946245533\n",
       "3. 1.10811391627523\n",
       "4. 0.798963460157448\n",
       "5. 0.584840019576842\n",
       "6. 0.432725469345998\n",
       "7. 0.322792102667421\n",
       "8. 0.242343883650704\n",
       "9. 0.182906220229383\n",
       "10. 0.138656341821488\n",
       "11. 0.105507837425229\n",
       "12. 0.0805461923839151\n",
       "13. 0.0616661632679333\n",
       "14. 0.0473314309000528\n",
       "15. 0.0364113741949728\n",
       "16. 0.0280680498856328\n",
       "17. 0.0216766964944125\n",
       "18. 0.0167690903396778\n",
       "19. 0.012992745951508\n",
       "20. 0.0100812591170015\n",
       "21. 0.00783258032293647\n",
       "22. 0.00609299021104185\n",
       "23. 0.00474521089870542\n",
       "24. 0.00369954005727444\n",
       "25. 0.00288720892530227\n",
       "26. 0.00225538611917729\n",
       "27. 0.00176340571053126\n",
       "28. 0.00137991020912484\n",
       "29. 0.00108068009000093\n",
       "30. 0.000846980420787677\n",
       "31. 0.000664298276718348\n",
       "32. 0.000521376389084672\n",
       "33. 0.000409471977974623\n",
       "34. 0.000321787198419552\n",
       "35. 0.000253030680887356\n",
       "36. 0.00019907943095913\n",
       "37. 0.00015671771298575\n",
       "38. 0.000123435096849183\n",
       "39. 9.72700509873873e-05\n",
       "40. 7.66886554833402e-05\n",
       "41. 6.04904366165039e-05\n",
       "42. 4.77351755957717e-05\n",
       "43. 3.76859590762514e-05\n",
       "44. 2.97648225615185e-05\n",
       "45. 2.35181690725527e-05\n",
       "46. 1.85897843502349e-05\n",
       "47. 1.46997616811002e-05\n",
       "48. 1.16280286288388e-05\n",
       "49. 9.2014607314415e-06\n",
       "50. 7.28379358652893e-06\n",
       "\n",
       "\n"
      ],
      "text/plain": [
       " [1] 2.339417e+00 1.573689e+00 1.108114e+00 7.989635e-01 5.848400e-01\n",
       " [6] 4.327255e-01 3.227921e-01 2.423439e-01 1.829062e-01 1.386563e-01\n",
       "[11] 1.055078e-01 8.054619e-02 6.166616e-02 4.733143e-02 3.641137e-02\n",
       "[16] 2.806805e-02 2.167670e-02 1.676909e-02 1.299275e-02 1.008126e-02\n",
       "[21] 7.832580e-03 6.092990e-03 4.745211e-03 3.699540e-03 2.887209e-03\n",
       "[26] 2.255386e-03 1.763406e-03 1.379910e-03 1.080680e-03 8.469804e-04\n",
       "[31] 6.642983e-04 5.213764e-04 4.094720e-04 3.217872e-04 2.530307e-04\n",
       "[36] 1.990794e-04 1.567177e-04 1.234351e-04 9.727005e-05 7.668866e-05\n",
       "[41] 6.049044e-05 4.773518e-05 3.768596e-05 2.976482e-05 2.351817e-05\n",
       "[46] 1.858978e-05 1.469976e-05 1.162803e-05 9.201461e-06 7.283794e-06"
      ]
     },
     "metadata": {},
     "output_type": "display_data"
    },
    {
     "data": {
      "text/html": [
       "<style>\n",
       ".list-inline {list-style: none; margin:0; padding: 0}\n",
       ".list-inline>li {display: inline-block}\n",
       ".list-inline>li:not(:last-child)::after {content: \"\\00b7\"; padding: 0 .5ex}\n",
       "</style>\n",
       "<ol class=list-inline><li>0.307255752383332</li><li>0.499301724999197</li><li>0.631697001499295</li><li>0.726065855063013</li><li>0.794628757048774</li><li>0.845087247201632</li><li>0.882572537765376</li><li>0.910623845794945</li><li>0.93173866168367</li><li>0.947709317123484</li><li>0.959838929025574</li><li>0.969083172161522</li><li>0.976150205878659</li><li>0.981567408055829</li><li>0.985729929026077</li><li>0.9889352731098</li><li>0.991408363675071</li><li>0.993319872221513</li><li>0.994799722509405</li><li>0.995947103878788</li><li>0.996837937459161</li><li>0.997531064922129</li><li>0.998070120104524</li><li>0.998490154339409</li><li>0.998817788557925</li><li>0.99907359967103</li><li>0.999273516942083</li><li>0.999429889113337</li><li>0.999552301787226</li><li>0.999648204827455</li><li>0.999723394867806</li><li>0.999782387053471</li><li>0.999828701917861</li><li>0.999865087109652</li><li>0.99989368901178</li><li>0.999916185754738</li><li>0.999933890438327</li><li>0.999947831329135</li><li>0.999958814238853</li><li>0.999967471093675</li><li>0.999974297789237</li><li>0.999979683722487</li><li>0.999983934851013</li><li>0.999987291713648</li><li>0.999989943524767</li><li>0.999992039206175</li><li>0.999993696028334</li><li>0.999995006383713</li><li>0.999996043099612</li><li>0.999996863608024</li></ol>\n"
      ],
      "text/latex": [
       "\\begin{enumerate*}\n",
       "\\item 0.307255752383332\n",
       "\\item 0.499301724999197\n",
       "\\item 0.631697001499295\n",
       "\\item 0.726065855063013\n",
       "\\item 0.794628757048774\n",
       "\\item 0.845087247201632\n",
       "\\item 0.882572537765376\n",
       "\\item 0.910623845794945\n",
       "\\item 0.93173866168367\n",
       "\\item 0.947709317123484\n",
       "\\item 0.959838929025574\n",
       "\\item 0.969083172161522\n",
       "\\item 0.976150205878659\n",
       "\\item 0.981567408055829\n",
       "\\item 0.985729929026077\n",
       "\\item 0.9889352731098\n",
       "\\item 0.991408363675071\n",
       "\\item 0.993319872221513\n",
       "\\item 0.994799722509405\n",
       "\\item 0.995947103878788\n",
       "\\item 0.996837937459161\n",
       "\\item 0.997531064922129\n",
       "\\item 0.998070120104524\n",
       "\\item 0.998490154339409\n",
       "\\item 0.998817788557925\n",
       "\\item 0.99907359967103\n",
       "\\item 0.999273516942083\n",
       "\\item 0.999429889113337\n",
       "\\item 0.999552301787226\n",
       "\\item 0.999648204827455\n",
       "\\item 0.999723394867806\n",
       "\\item 0.999782387053471\n",
       "\\item 0.999828701917861\n",
       "\\item 0.999865087109652\n",
       "\\item 0.99989368901178\n",
       "\\item 0.999916185754738\n",
       "\\item 0.999933890438327\n",
       "\\item 0.999947831329135\n",
       "\\item 0.999958814238853\n",
       "\\item 0.999967471093675\n",
       "\\item 0.999974297789237\n",
       "\\item 0.999979683722487\n",
       "\\item 0.999983934851013\n",
       "\\item 0.999987291713648\n",
       "\\item 0.999989943524767\n",
       "\\item 0.999992039206175\n",
       "\\item 0.999993696028334\n",
       "\\item 0.999995006383713\n",
       "\\item 0.999996043099612\n",
       "\\item 0.999996863608024\n",
       "\\end{enumerate*}\n"
      ],
      "text/markdown": [
       "1. 0.307255752383332\n",
       "2. 0.499301724999197\n",
       "3. 0.631697001499295\n",
       "4. 0.726065855063013\n",
       "5. 0.794628757048774\n",
       "6. 0.845087247201632\n",
       "7. 0.882572537765376\n",
       "8. 0.910623845794945\n",
       "9. 0.93173866168367\n",
       "10. 0.947709317123484\n",
       "11. 0.959838929025574\n",
       "12. 0.969083172161522\n",
       "13. 0.976150205878659\n",
       "14. 0.981567408055829\n",
       "15. 0.985729929026077\n",
       "16. 0.9889352731098\n",
       "17. 0.991408363675071\n",
       "18. 0.993319872221513\n",
       "19. 0.994799722509405\n",
       "20. 0.995947103878788\n",
       "21. 0.996837937459161\n",
       "22. 0.997531064922129\n",
       "23. 0.998070120104524\n",
       "24. 0.998490154339409\n",
       "25. 0.998817788557925\n",
       "26. 0.99907359967103\n",
       "27. 0.999273516942083\n",
       "28. 0.999429889113337\n",
       "29. 0.999552301787226\n",
       "30. 0.999648204827455\n",
       "31. 0.999723394867806\n",
       "32. 0.999782387053471\n",
       "33. 0.999828701917861\n",
       "34. 0.999865087109652\n",
       "35. 0.99989368901178\n",
       "36. 0.999916185754738\n",
       "37. 0.999933890438327\n",
       "38. 0.999947831329135\n",
       "39. 0.999958814238853\n",
       "40. 0.999967471093675\n",
       "41. 0.999974297789237\n",
       "42. 0.999979683722487\n",
       "43. 0.999983934851013\n",
       "44. 0.999987291713648\n",
       "45. 0.999989943524767\n",
       "46. 0.999992039206175\n",
       "47. 0.999993696028334\n",
       "48. 0.999995006383713\n",
       "49. 0.999996043099612\n",
       "50. 0.999996863608024\n",
       "\n",
       "\n"
      ],
      "text/plain": [
       " [1] 0.3072558 0.4993017 0.6316970 0.7260659 0.7946288 0.8450872 0.8825725\n",
       " [8] 0.9106238 0.9317387 0.9477093 0.9598389 0.9690832 0.9761502 0.9815674\n",
       "[15] 0.9857299 0.9889353 0.9914084 0.9933199 0.9947997 0.9959471 0.9968379\n",
       "[22] 0.9975311 0.9980701 0.9984902 0.9988178 0.9990736 0.9992735 0.9994299\n",
       "[29] 0.9995523 0.9996482 0.9997234 0.9997824 0.9998287 0.9998651 0.9998937\n",
       "[36] 0.9999162 0.9999339 0.9999478 0.9999588 0.9999675 0.9999743 0.9999797\n",
       "[43] 0.9999839 0.9999873 0.9999899 0.9999920 0.9999937 0.9999950 0.9999960\n",
       "[50] 0.9999969"
      ]
     },
     "metadata": {},
     "output_type": "display_data"
    },
    {
     "data": {
      "image/png": "[encoded data removed]",
      "text/plain": [
       "plot without title"
      ]
     },
     "metadata": {
      "image/png": {
       "height": 420,
       "width": 420
      }
     },
     "output_type": "display_data"
    }
   ],
   "source": [
    "# examples\n",
    "dg(seq(0,5,0.1)[-1],c(2, 1.5, 0.5, 0, 1, 0))\n",
    "plot(seq(0,5,0.1)[-1], dg(seq(0,5,0.1)[-1],c(2, 1.5, 0.5, 0, 1, 0)), type=\"l\")\n",
    "\n",
    "\n",
    "pg(x=seq(0,5,0.1)[-1],c(2, 1.5, 0.5, 0, 1, 0))\n"
   ]
  },
  {
   "cell_type": "code",
   "execution_count": 3,
   "metadata": {},
   "outputs": [],
   "source": [
    "# datasets: X (Frechet), Y (Weibull) and Z (Gamma)\n",
    "\n",
    "\n",
    "x=c(29.19, 8.49, 7.37, 82.93, 44.18, 13.82, 22.28, 28.06, 6.84, 12.14, \n",
    "    153.78, 17.04, 13.47, 15.43, 30.36, 6.91, 22.12, 35.45, 44.66, 95.81, \n",
    "    6.18, 10.00, 58.39, 24.05, 17.03, 38.65, 47.17, 27.99, 11.84, 9.60, \n",
    "    6.72, 13.74, 14.60, 9.65, 10.39, 60.14, 15.51, 14.69, 16.44)\n",
    "\n",
    "y=c(1.312, 1.314, 1.479, 1.552, 1.700, 1.803, 1.861, 1.865, 1.944, 1.958, 1.966, \n",
    "    1.977, 2.006, 2.021, 2.027, 2.055, 2.063, 2.098, 2.140, 2.179, 2.224, 2.240, \n",
    "    2.253, 2.270, 2.272, 2.274, 2.301, 2.301, 2.359, 2.382, 2.382, 2.426, 2.434, \n",
    "    2.435, 2.478, 2.490, 2.511, 2.514, 2.535, 2.554, 2.566, 2.570, 2.586, 2.629, \n",
    "    2.633, 2.642, 2.648, 2.684, 2.697, 2.726, 2.770, 2.773, 2.800, 2.809, 2.818, \n",
    "    2.821, 2.848, 2.880, 2.954, 3.012, 3.067, 3.084, 3.090, 3.096, 3.128, 3.233,\n",
    "    3.433, 3.585, 3.585)\n",
    "\n",
    "z=c(620, 470, 260, 89, 388, 242, 103, 100, 39, 460, 284, 1285, 218, 393, 106, \n",
    "    158, 152, 477, 403, 103, 69, 158, 818, 947, 399, 1274, 32, 12, 134, 660, 548, \n",
    "    381, 203, 871, 193, 531, 317, 85, 1410, 250, 41, 1101, 32, 421, 32, 343, 376,\n",
    "    1512, 1792, 47, 95, 76, 515, 72, 1585, 253, 6, 860, 89, 1055, 537, 101, 385,  \n",
    "    176, 11, 565, 164, 16, 1267, 352, 160, 195, 1279, 356, 751, 500, 803, 560, 151, \n",
    "    24, 689, 1119, 1733, 2194, 763, 555, 14, 45, 776, 1, 1747, 945, 12, 1453, 14, \n",
    "    150, 20, 41, 35, 69, 195, 89, 1090, 1868, 294, 96, 618, 44, 142, 892, 1307, 310, \n",
    "    230, 30, 403, 860, 23, 406, 1054, 1935, 561, 348, 130, 13, 230, 250, 317, 304, \n",
    "    79, 1793, 536, 12, 9, 256, 201, 733, 510, 660, 122, 27, 273, 1231, 182, 289, \n",
    "    667, 761, 1096, 43, 44, 87, 405, 998, 1409, 61, 278, 407, 113, 25, 940, 28, \n",
    "    848, 41, 646, 575, 219, 303, 304, 38, 195, 1061, 174, 377, 388, 10, 246, 323, \n",
    "    198, 234, 39, 308, 55, 729, 813, 1216, 1618, 539, 6, 1566, 459, 946, 764, \n",
    "    794, 35, 181, 147, 116, 141, 19, 380, 609, 546)\n"
   ]
  },
  {
   "cell_type": "code",
   "execution_count": 4,
   "metadata": {},
   "outputs": [
    {
     "data": {
      "text/plain": [
       "   Min. 1st Qu.  Median    Mean 3rd Qu.    Max. \n",
       "   6.18   11.12   16.44   28.28   32.91  153.78 "
      ]
     },
     "metadata": {},
     "output_type": "display_data"
    },
    {
     "data": {
      "text/html": [
       "<style>\n",
       ".dl-inline {width: auto; margin:0; padding: 0}\n",
       ".dl-inline>dt, .dl-inline>dd {float: none; width: auto; display: inline-block}\n",
       ".dl-inline>dt::after {content: \":\\0020\"; padding-right: .5ex}\n",
       ".dl-inline>dt:not(:first-of-type) {padding-left: .5ex}\n",
       "</style><dl class=dl-inline><dt>Min.</dt><dd>6.18</dd><dt>1st Qu.</dt><dd>11.115</dd><dt>Median</dt><dd>16.44</dd><dt>Mean</dt><dd>28.2848717948718</dd><dt>3rd Qu.</dt><dd>32.905</dd><dt>Max.</dt><dd>153.78</dd><dt>Sd</dt><dd>29.3191522523916</dd><dt>CS</dt><dd>2.45106325383305</dd><dt>CK</dt><dd>6.78540205116428</dd></dl>\n"
      ],
      "text/latex": [
       "\\begin{description*}\n",
       "\\item[Min.] 6.18\n",
       "\\item[1st Qu.] 11.115\n",
       "\\item[Median] 16.44\n",
       "\\item[Mean] 28.2848717948718\n",
       "\\item[3rd Qu.] 32.905\n",
       "\\item[Max.] 153.78\n",
       "\\item[Sd] 29.3191522523916\n",
       "\\item[CS] 2.45106325383305\n",
       "\\item[CK] 6.78540205116428\n",
       "\\end{description*}\n"
      ],
      "text/markdown": [
       "Min.\n",
       ":   6.181st Qu.\n",
       ":   11.115Median\n",
       ":   16.44Mean\n",
       ":   28.28487179487183rd Qu.\n",
       ":   32.905Max.\n",
       ":   153.78Sd\n",
       ":   29.3191522523916CS\n",
       ":   2.45106325383305CK\n",
       ":   6.78540205116428\n",
       "\n"
      ],
      "text/plain": [
       "      Min.    1st Qu.     Median       Mean    3rd Qu.       Max.         Sd \n",
       "  6.180000  11.115000  16.440000  28.284872  32.905000 153.780000  29.319152 \n",
       "        CS         CK \n",
       "  2.451063   6.785402 "
      ]
     },
     "metadata": {},
     "output_type": "display_data"
    },
    {
     "data": {
      "text/plain": [
       "   Min. 1st Qu.  Median    Mean 3rd Qu.    Max. \n",
       "  1.312   2.098   2.478   2.451   2.773   3.585 "
      ]
     },
     "metadata": {},
     "output_type": "display_data"
    },
    {
     "data": {
      "text/html": [
       "<style>\n",
       ".dl-inline {width: auto; margin:0; padding: 0}\n",
       ".dl-inline>dt, .dl-inline>dd {float: none; width: auto; display: inline-block}\n",
       ".dl-inline>dt::after {content: \":\\0020\"; padding-right: .5ex}\n",
       ".dl-inline>dt:not(:first-of-type) {padding-left: .5ex}\n",
       "</style><dl class=dl-inline><dt>Min.</dt><dd>1.312</dd><dt>1st Qu.</dt><dd>2.098</dd><dt>Median</dt><dd>2.478</dd><dt>Mean</dt><dd>2.45104347826087</dd><dt>3rd Qu.</dt><dd>2.773</dd><dt>Max.</dt><dd>3.585</dd><dt>Sd</dt><dd>0.495419799254739</dd><dt>CS</dt><dd>-0.0273659148809154</dd><dt>CK</dt><dd>-0.148377269235216</dd></dl>\n"
      ],
      "text/latex": [
       "\\begin{description*}\n",
       "\\item[Min.] 1.312\n",
       "\\item[1st Qu.] 2.098\n",
       "\\item[Median] 2.478\n",
       "\\item[Mean] 2.45104347826087\n",
       "\\item[3rd Qu.] 2.773\n",
       "\\item[Max.] 3.585\n",
       "\\item[Sd] 0.495419799254739\n",
       "\\item[CS] -0.0273659148809154\n",
       "\\item[CK] -0.148377269235216\n",
       "\\end{description*}\n"
      ],
      "text/markdown": [
       "Min.\n",
       ":   1.3121st Qu.\n",
       ":   2.098Median\n",
       ":   2.478Mean\n",
       ":   2.451043478260873rd Qu.\n",
       ":   2.773Max.\n",
       ":   3.585Sd\n",
       ":   0.495419799254739CS\n",
       ":   -0.0273659148809154CK\n",
       ":   -0.148377269235216\n",
       "\n"
      ],
      "text/plain": [
       "       Min.     1st Qu.      Median        Mean     3rd Qu.        Max. \n",
       " 1.31200000  2.09800000  2.47800000  2.45104348  2.77300000  3.58500000 \n",
       "         Sd          CS          CK \n",
       " 0.49541980 -0.02736591 -0.14837727 "
      ]
     },
     "metadata": {},
     "output_type": "display_data"
    },
    {
     "data": {
      "text/plain": [
       "   Min. 1st Qu.  Median    Mean 3rd Qu.    Max. \n",
       "    1.0    96.0   304.0   463.6   667.0  2194.0 "
      ]
     },
     "metadata": {},
     "output_type": "display_data"
    },
    {
     "data": {
      "text/html": [
       "<style>\n",
       ".dl-inline {width: auto; margin:0; padding: 0}\n",
       ".dl-inline>dt, .dl-inline>dd {float: none; width: auto; display: inline-block}\n",
       ".dl-inline>dt::after {content: \":\\0020\"; padding-right: .5ex}\n",
       ".dl-inline>dt:not(:first-of-type) {padding-left: .5ex}\n",
       "</style><dl class=dl-inline><dt>Min.</dt><dd>1</dd><dt>1st Qu.</dt><dd>96</dd><dt>Median</dt><dd>304</dd><dt>Mean</dt><dd>463.646766169154</dd><dt>3rd Qu.</dt><dd>667</dd><dt>Max.</dt><dd>2194</dd><dt>Sd</dt><dd>476.956161090294</dd><dt>CS</dt><dd>1.35832076665423</dd><dt>CK</dt><dd>1.24985421927004</dd></dl>\n"
      ],
      "text/latex": [
       "\\begin{description*}\n",
       "\\item[Min.] 1\n",
       "\\item[1st Qu.] 96\n",
       "\\item[Median] 304\n",
       "\\item[Mean] 463.646766169154\n",
       "\\item[3rd Qu.] 667\n",
       "\\item[Max.] 2194\n",
       "\\item[Sd] 476.956161090294\n",
       "\\item[CS] 1.35832076665423\n",
       "\\item[CK] 1.24985421927004\n",
       "\\end{description*}\n"
      ],
      "text/markdown": [
       "Min.\n",
       ":   11st Qu.\n",
       ":   96Median\n",
       ":   304Mean\n",
       ":   463.6467661691543rd Qu.\n",
       ":   667Max.\n",
       ":   2194Sd\n",
       ":   476.956161090294CS\n",
       ":   1.35832076665423CK\n",
       ":   1.24985421927004\n",
       "\n"
      ],
      "text/plain": [
       "       Min.     1st Qu.      Median        Mean     3rd Qu.        Max. \n",
       "   1.000000   96.000000  304.000000  463.646766  667.000000 2194.000000 \n",
       "         Sd          CS          CK \n",
       " 476.956161    1.358321    1.249854 "
      ]
     },
     "metadata": {},
     "output_type": "display_data"
    },
    {
     "data": {
      "text/plain": [
       "\n",
       "\tExact one-sample Kolmogorov-Smirnov test\n",
       "\n",
       "data:  x\n",
       "D = 0.072115, p-value = 0.9784\n",
       "alternative hypothesis: two-sided\n"
      ]
     },
     "metadata": {},
     "output_type": "display_data"
    },
    {
     "data": {
      "text/plain": [
       "\n",
       "\tExact one-sample Kolmogorov-Smirnov test\n",
       "\n",
       "data:  x\n",
       "D = 0.082815, p-value = 0.9317\n",
       "alternative hypothesis: two-sided\n"
      ]
     },
     "metadata": {},
     "output_type": "display_data"
    },
    {
     "name": "stderr",
     "output_type": "stream",
     "text": [
      "Warning message in ks.test.default(y, pg, param = fit2_y):\n",
      "“não devem existir empates no teste de Kolmogorov-Smirnov de apenas uma amostra”\n"
     ]
    },
    {
     "data": {
      "text/plain": [
       "\n",
       "\tAsymptotic one-sample Kolmogorov-Smirnov test\n",
       "\n",
       "data:  y\n",
       "D = 0.036089, p-value = 1\n",
       "alternative hypothesis: two-sided\n"
      ]
     },
     "metadata": {},
     "output_type": "display_data"
    },
    {
     "name": "stderr",
     "output_type": "stream",
     "text": [
      "Warning message in ks.test.default(y, pg, param = fit2_y):\n",
      "“não devem existir empates no teste de Kolmogorov-Smirnov de apenas uma amostra”\n"
     ]
    },
    {
     "data": {
      "text/html": [
       "0.999990871733857"
      ],
      "text/latex": [
       "0.999990871733857"
      ],
      "text/markdown": [
       "0.999990871733857"
      ],
      "text/plain": [
       "[1] 0.9999909"
      ]
     },
     "metadata": {},
     "output_type": "display_data"
    },
    {
     "name": "stderr",
     "output_type": "stream",
     "text": [
      "Warning message in ks.test.default(y, pg, param = fit3_y):\n",
      "“não devem existir empates no teste de Kolmogorov-Smirnov de apenas uma amostra”\n"
     ]
    },
    {
     "data": {
      "text/plain": [
       "\n",
       "\tAsymptotic one-sample Kolmogorov-Smirnov test\n",
       "\n",
       "data:  y\n",
       "D = 0.042773, p-value = 0.9996\n",
       "alternative hypothesis: two-sided\n"
      ]
     },
     "metadata": {},
     "output_type": "display_data"
    },
    {
     "name": "stderr",
     "output_type": "stream",
     "text": [
      "Warning message in ks.test.default(z, pg, param = fit2_z):\n",
      "“não devem existir empates no teste de Kolmogorov-Smirnov de apenas uma amostra”\n"
     ]
    },
    {
     "data": {
      "text/plain": [
       "\n",
       "\tAsymptotic one-sample Kolmogorov-Smirnov test\n",
       "\n",
       "data:  z\n",
       "D = 0.033285, p-value = 0.9791\n",
       "alternative hypothesis: two-sided\n"
      ]
     },
     "metadata": {},
     "output_type": "display_data"
    },
    {
     "name": "stderr",
     "output_type": "stream",
     "text": [
      "Warning message in ks.test.default(z, pg, param = fit3_z):\n",
      "“não devem existir empates no teste de Kolmogorov-Smirnov de apenas uma amostra”\n"
     ]
    },
    {
     "data": {
      "text/plain": [
       "\n",
       "\tAsymptotic one-sample Kolmogorov-Smirnov test\n",
       "\n",
       "data:  z\n",
       "D = 0.055809, p-value = 0.5585\n",
       "alternative hypothesis: two-sided\n"
      ]
     },
     "metadata": {},
     "output_type": "display_data"
    },
    {
     "data": {
      "text/plain": [
       "\n",
       "\tCramer-von Mises test of goodness-of-fit\n",
       "\tNull hypothesis: distribution ‘pg’\n",
       "\twith parameter param = 0.013 0.364 0.517 6e-04 -5.089 -1.446\n",
       "\tParameters assumed to be fixed\n",
       "\n",
       "data:  x\n",
       "omega2 = 0.02921, p-value = 0.98\n"
      ]
     },
     "metadata": {},
     "output_type": "display_data"
    },
    {
     "data": {
      "text/plain": [
       "\n",
       "\tCramer-von Mises test of goodness-of-fit\n",
       "\tNull hypothesis: distribution ‘pg’\n",
       "\twith parameter param = 0.021 8e-04 3.973 0.007 -9.51 -0.899\n",
       "\tParameters assumed to be fixed\n",
       "\n",
       "data:  x\n",
       "omega2 = 0.029236, p-value = 0.9799\n"
      ]
     },
     "metadata": {},
     "output_type": "display_data"
    },
    {
     "data": {
      "text/plain": [
       "\n",
       "\tCramer-von Mises test of goodness-of-fit\n",
       "\tNull hypothesis: distribution ‘pg’\n",
       "\twith parameter param = 0.002 0.5 0.8 0.03 5.44 6.12\n",
       "\tParameters assumed to be fixed\n",
       "\n",
       "data:  y\n",
       "omega2 = 0.014781, p-value = 0.9997\n"
      ]
     },
     "metadata": {},
     "output_type": "display_data"
    },
    {
     "data": {
      "text/plain": [
       "\n",
       "\tCramer-von Mises test of goodness-of-fit\n",
       "\tNull hypothesis: distribution ‘pg’\n",
       "\twith parameter param = 0 0.657 0.621 0 5.394 7.15\n",
       "\tParameters assumed to be fixed\n",
       "\n",
       "data:  y\n",
       "omega2 = 0.016132, p-value = 0.9994\n"
      ]
     },
     "metadata": {},
     "output_type": "display_data"
    },
    {
     "data": {
      "text/plain": [
       "\n",
       "\tCramer-von Mises test of goodness-of-fit\n",
       "\tNull hypothesis: distribution ‘pg’\n",
       "\twith parameter param = 0.0015 7.17 -6.55 0.0018 8.57 -0.29\n",
       "\tParameters assumed to be fixed\n",
       "\n",
       "data:  z\n",
       "omega2 = 0.031665, p-value = 0.9707\n"
      ]
     },
     "metadata": {},
     "output_type": "display_data"
    },
    {
     "data": {
      "text/plain": [
       "\n",
       "\tCramer-von Mises test of goodness-of-fit\n",
       "\tNull hypothesis: distribution ‘pg’\n",
       "\twith parameter param = 0.0017 7.17 -6.55 0.005 8.57 -0.195\n",
       "\tParameters assumed to be fixed\n",
       "\n",
       "data:  z\n",
       "omega2 = 0.051612, p-value = 0.867\n"
      ]
     },
     "metadata": {},
     "output_type": "display_data"
    },
    {
     "name": "stderr",
     "output_type": "stream",
     "text": [
      "Warning message in ks.test.default(y, pg, param = fit2_y):\n",
      "“não devem existir empates no teste de Kolmogorov-Smirnov de apenas uma amostra”\n",
      "Warning message in ks.test.default(y, pg, param = fit3_y):\n",
      "“não devem existir empates no teste de Kolmogorov-Smirnov de apenas uma amostra”\n",
      "Warning message in ks.test.default(z, pg, param = fit2_z):\n",
      "“não devem existir empates no teste de Kolmogorov-Smirnov de apenas uma amostra”\n",
      "Warning message in ks.test.default(z, pg, param = fit3_z):\n",
      "“não devem existir empates no teste de Kolmogorov-Smirnov de apenas uma amostra”\n",
      "Warning message in ks.test.default(y, pg, param = fit2_y):\n",
      "“não devem existir empates no teste de Kolmogorov-Smirnov de apenas uma amostra”\n",
      "Warning message in ks.test.default(y, pg, param = fit3_y):\n",
      "“não devem existir empates no teste de Kolmogorov-Smirnov de apenas uma amostra”\n",
      "Warning message in ks.test.default(z, pg, param = fit2_z):\n",
      "“não devem existir empates no teste de Kolmogorov-Smirnov de apenas uma amostra”\n",
      "Warning message in ks.test.default(z, pg, param = fit3_z):\n",
      "“não devem existir empates no teste de Kolmogorov-Smirnov de apenas uma amostra”\n"
     ]
    },
    {
     "data": {
      "text/html": [
       "<table class=\"dataframe\">\n",
       "<caption>A data.frame: 6 × 6</caption>\n",
       "<thead>\n",
       "\t<tr><th scope=col>Dataset</th><th scope=col>Method</th><th scope=col>KS_stat</th><th scope=col>KS_pvalue</th><th scope=col>CVM_stat</th><th scope=col>CVM_pvalue</th></tr>\n",
       "\t<tr><th scope=col>&lt;chr&gt;</th><th scope=col>&lt;chr&gt;</th><th scope=col>&lt;dbl&gt;</th><th scope=col>&lt;dbl&gt;</th><th scope=col>&lt;dbl&gt;</th><th scope=col>&lt;dbl&gt;</th></tr>\n",
       "</thead>\n",
       "<tbody>\n",
       "\t<tr><td>X</td><td>LSE</td><td>0.07211532</td><td>0.9783668</td><td>0.02920985</td><td>0.9799878</td></tr>\n",
       "\t<tr><td>X</td><td>MLE</td><td>0.08281519</td><td>0.9316815</td><td>0.02923611</td><td>0.9799091</td></tr>\n",
       "\t<tr><td>Y</td><td>LSE</td><td>0.03608945</td><td>0.9999909</td><td>0.01478150</td><td>0.9997095</td></tr>\n",
       "\t<tr><td>Y</td><td>MLE</td><td>0.04277266</td><td>0.9995981</td><td>0.01613165</td><td>0.9993982</td></tr>\n",
       "\t<tr><td>Z</td><td>LSE</td><td>0.03328451</td><td>0.9791479</td><td>0.03166480</td><td>0.9706843</td></tr>\n",
       "\t<tr><td>Z</td><td>MLE</td><td>0.05580871</td><td>0.5584834</td><td>0.05161242</td><td>0.8669654</td></tr>\n",
       "</tbody>\n",
       "</table>\n"
      ],
      "text/latex": [
       "A data.frame: 6 × 6\n",
       "\\begin{tabular}{llllll}\n",
       " Dataset & Method & KS\\_stat & KS\\_pvalue & CVM\\_stat & CVM\\_pvalue\\\\\n",
       " <chr> & <chr> & <dbl> & <dbl> & <dbl> & <dbl>\\\\\n",
       "\\hline\n",
       "\t X & LSE & 0.07211532 & 0.9783668 & 0.02920985 & 0.9799878\\\\\n",
       "\t X & MLE & 0.08281519 & 0.9316815 & 0.02923611 & 0.9799091\\\\\n",
       "\t Y & LSE & 0.03608945 & 0.9999909 & 0.01478150 & 0.9997095\\\\\n",
       "\t Y & MLE & 0.04277266 & 0.9995981 & 0.01613165 & 0.9993982\\\\\n",
       "\t Z & LSE & 0.03328451 & 0.9791479 & 0.03166480 & 0.9706843\\\\\n",
       "\t Z & MLE & 0.05580871 & 0.5584834 & 0.05161242 & 0.8669654\\\\\n",
       "\\end{tabular}\n"
      ],
      "text/markdown": [
       "\n",
       "A data.frame: 6 × 6\n",
       "\n",
       "| Dataset &lt;chr&gt; | Method &lt;chr&gt; | KS_stat &lt;dbl&gt; | KS_pvalue &lt;dbl&gt; | CVM_stat &lt;dbl&gt; | CVM_pvalue &lt;dbl&gt; |\n",
       "|---|---|---|---|---|---|\n",
       "| X | LSE | 0.07211532 | 0.9783668 | 0.02920985 | 0.9799878 |\n",
       "| X | MLE | 0.08281519 | 0.9316815 | 0.02923611 | 0.9799091 |\n",
       "| Y | LSE | 0.03608945 | 0.9999909 | 0.01478150 | 0.9997095 |\n",
       "| Y | MLE | 0.04277266 | 0.9995981 | 0.01613165 | 0.9993982 |\n",
       "| Z | LSE | 0.03328451 | 0.9791479 | 0.03166480 | 0.9706843 |\n",
       "| Z | MLE | 0.05580871 | 0.5584834 | 0.05161242 | 0.8669654 |\n",
       "\n"
      ],
      "text/plain": [
       "  Dataset Method KS_stat    KS_pvalue CVM_stat   CVM_pvalue\n",
       "1 X       LSE    0.07211532 0.9783668 0.02920985 0.9799878 \n",
       "2 X       MLE    0.08281519 0.9316815 0.02923611 0.9799091 \n",
       "3 Y       LSE    0.03608945 0.9999909 0.01478150 0.9997095 \n",
       "4 Y       MLE    0.04277266 0.9995981 0.01613165 0.9993982 \n",
       "5 Z       LSE    0.03328451 0.9791479 0.03166480 0.9706843 \n",
       "6 Z       MLE    0.05580871 0.5584834 0.05161242 0.8669654 "
      ]
     },
     "metadata": {},
     "output_type": "display_data"
    },
    {
     "data": {
      "text/html": [
       "<strong>png:</strong> 2"
      ],
      "text/latex": [
       "\\textbf{png:} 2"
      ],
      "text/markdown": [
       "**png:** 2"
      ],
      "text/plain": [
       "png \n",
       "  2 "
      ]
     },
     "metadata": {},
     "output_type": "display_data"
    },
    {
     "data": {
      "text/html": [
       "<strong>png:</strong> 2"
      ],
      "text/latex": [
       "\\textbf{png:} 2"
      ],
      "text/markdown": [
       "**png:** 2"
      ],
      "text/plain": [
       "png \n",
       "  2 "
      ]
     },
     "metadata": {},
     "output_type": "display_data"
    },
    {
     "data": {
      "text/html": [
       "<strong>png:</strong> 2"
      ],
      "text/latex": [
       "\\textbf{png:} 2"
      ],
      "text/markdown": [
       "**png:** 2"
      ],
      "text/plain": [
       "png \n",
       "  2 "
      ]
     },
     "metadata": {},
     "output_type": "display_data"
    },
    {
     "name": "stderr",
     "output_type": "stream",
     "text": [
      "Carregando pacotes exigidos: mvabund\n",
      "\n",
      "Registered S3 method overwritten by 'GET':\n",
      "  method       from \n",
      "  print.fclust e1071\n",
      "\n"
     ]
    },
    {
     "data": {
      "text/html": [
       "<strong>png:</strong> 2"
      ],
      "text/latex": [
       "\\textbf{png:} 2"
      ],
      "text/markdown": [
       "**png:** 2"
      ],
      "text/plain": [
       "png \n",
       "  2 "
      ]
     },
     "metadata": {},
     "output_type": "display_data"
    },
    {
     "data": {
      "text/html": [
       "<strong>png:</strong> 2"
      ],
      "text/latex": [
       "\\textbf{png:} 2"
      ],
      "text/markdown": [
       "**png:** 2"
      ],
      "text/plain": [
       "png \n",
       "  2 "
      ]
     },
     "metadata": {},
     "output_type": "display_data"
    },
    {
     "data": {
      "text/html": [
       "<strong>png:</strong> 2"
      ],
      "text/latex": [
       "\\textbf{png:} 2"
      ],
      "text/markdown": [
       "**png:** 2"
      ],
      "text/plain": [
       "png \n",
       "  2 "
      ]
     },
     "metadata": {},
     "output_type": "display_data"
    }
   ],
   "source": [
    "# Estimates from Table 3\n",
    "## Estimates: Frechet\n",
    "fit_x=c(0, 0.0727, 1, 0, -1.564, -2.564)\n",
    "fit2_x=c(0.013, 0.364, 0.517, 0.0006, -5.089, -1.446) # Algorithm 1\n",
    "fit3_x=c(0.021, 0.0008, 3.973, 0.007, -9.51, -0.899) # Algorithm 2\n",
    "\n",
    "## Estimates: Weibull\n",
    "fit_y=c(0, 0.377, 1, 0, 5.50, 4.50)\n",
    "fit2_y=c(0.002, 0.5, 0.80, 0.03, 5.44, 6.12)\n",
    "fit3_y=c(0.0, 0.657, 0.621, 0.0, 5.394, 7.150)\n",
    "\n",
    "## Estimates: Gamma\n",
    "fit_z=c(0.0018, 0, 1, 0, 1, -0.1726)\n",
    "fit2_z=c(0.0015, 7.17, -6.55, 0.0018, 8.57, -0.29)\n",
    "fit3_z=c(0.0017, 7.17, -6.55, 0.005, 8.57, -0.195)\n",
    "\n",
    "\n",
    " # plot(xpoints, dubs(ubs_fit,xpoints), type=\"l\")\n",
    "\n",
    "library(e1071)\n",
    " \n",
    "(tab=summary(x))\n",
    " \n",
    "(tab_res=c(tab, Sd=sd(x),\n",
    "            CS=skewness(x),\n",
    "            CK=kurtosis(x))) \n",
    " \n",
    " \n",
    "(taby=summary(y))\n",
    "\n",
    "(tab_resy=c(taby, Sd=sd(y),\n",
    "           CS=skewness(y),\n",
    "           CK=kurtosis(y))) \n",
    "\n",
    "(tabz=summary(z))\n",
    "\n",
    "(tab_resz=c(tabz, Sd=sd(z),\n",
    "            CS=skewness(z),\n",
    "            CK=kurtosis(z))) \n",
    "\n",
    "tab_res=cbind.data.frame(as.data.frame(tab_res), as.data.frame(tab_resy),  as.data.frame(tab_resz))\n",
    "\n",
    "names(tab_res)=c(\"X\", \"Y\", \"Z\")\n",
    "\n",
    "write.csv2(tab_res, file=\"descriptive_stats_xyz.csv\")\n",
    "\n",
    "\n",
    "x11()\n",
    "boxplot(x, main=\"Minimum monthly flow of water\", ylab=\"Values\")\n",
    "boxplot(y, main=\"20 mm carbon fiber strengh\", ylab=\"Values\")\n",
    "boxplot(z, main=\"Machine parts failure time\", ylab=\"Values\")\n",
    "\n",
    "\n",
    "ks.test(x, pg,param=fit2_x)#D = 0.085375, p-value = 0.9156\n",
    "ks.test(x, pg,param=fit3_x)#D = 0.17434, p-value = 0.1657\n",
    "\n",
    "ks.test(y, pg,param=fit2_y)#D = 0.10714, p-value = 0.9999\n",
    "ks.test(y, pg,param=fit2_y)[]$p.value\n",
    "ks.test(y, pg,param=fit3_y)#D = 0.042773, p-value = 0.9996\n",
    "\n",
    "ks.test(z, pg,param=fit2_z)#D = 0.039676, p-value = 0.9097\n",
    "ks.test(z, pg,param=fit3_z) # MLE nao ajustou bem, mas LSE sim!\n",
    "#D = 0.10392, p-value = 0.02603\n",
    "\n",
    "\n",
    "library(goftest)\n",
    "cvm.test(x, pg, param=fit2_x)# omega2 = 0.039944, p-value = 0.9357\n",
    "cvm.test(x, pg, param=fit3_x)#omega2 = 0.17082, p-value = 0.3329\n",
    "cvm.test(y, pg, param=fit2_y)# omega2 = 0.039944, p-value = 0.9357\n",
    "cvm.test(y, pg, param=fit3_y)#omega2 = 0.17082, p-value = 0.3329\n",
    "cvm.test(z, pg, param=fit2_z)# omega2 = 0.039944, p-value = 0.9357\n",
    "cvm.test(z, pg, param=fit3_z)#omega2 = 0.17082, p-value = 0.3329\n",
    "\n",
    "\n",
    "# tables: stats and p-values\n",
    "tab_goodness_fit=data.frame(\n",
    "    Dataset=c(\"X\",\"X\", \"Y\",\"Y\", \"Z\", \"Z\"),\n",
    "    Method = c(\"LSE\", \"MLE\",\"LSE\", \"MLE\",\"LSE\", \"MLE\"),\n",
    "    KS_stat = c(ks.test(x, pg,param=fit2_x)$statistic,\n",
    "                ks.test(x, pg,param=fit3_x)$statistic,\n",
    "                ks.test(y, pg,param=fit2_y)$statistic,\n",
    "                ks.test(y, pg,param=fit3_y)$statistic,\n",
    "                ks.test(z, pg,param=fit2_z)$statistic,\n",
    "                ks.test(z, pg,param=fit3_z)$statistic),\n",
    "    KS_pvalue = c(ks.test(x, pg,param=fit2_x)$p.value,\n",
    "                  ks.test(x, pg,param=fit3_x)$p.value,\n",
    "                  ks.test(y, pg,param=fit2_y)$p.value,\n",
    "                  ks.test(y, pg,param=fit3_y)$p.value,\n",
    "                  ks.test(z, pg,param=fit2_z)$p.value,\n",
    "                  ks.test(z, pg,param=fit3_z)$p.value),\n",
    "    CVM_stat = c(cvm.test(x, pg, param=fit2_x)$statistic,\n",
    "                 cvm.test(x, pg, param=fit3_x)$statistic,\n",
    "                 cvm.test(y, pg, param=fit2_y)$statistic,\n",
    "                 cvm.test(y, pg, param=fit3_y)$statistic,\n",
    "                 cvm.test(z, pg, param=fit2_z)$statistic,\n",
    "                 cvm.test(z, pg, param=fit3_z)$statistic),\n",
    "    CVM_pvalue = c(cvm.test(x, pg, param=fit2_x)$p.value,\n",
    "                   cvm.test(x, pg, param=fit3_x)$p.value,\n",
    "                   cvm.test(y, pg, param=fit2_y)$p.value,\n",
    "                   cvm.test(y, pg, param=fit3_y)$p.value,\n",
    "                   cvm.test(z, pg, param=fit2_z)$p.value,\n",
    "                   cvm.test(z, pg, param=fit3_z)$p.value)\n",
    ")\n",
    "\n",
    "tab_goodness_fit\n",
    "\n",
    "write.csv2(tab_goodness_fit, file=\"./goodness_fit.csv\")\n",
    "#### ---------------------------------------------\n",
    "### Histograms vs fitted density\n",
    "### ---------------------------------------------\n",
    "x11()\n",
    "#par(mfrow=c(3,1))\n",
    "\n",
    "\n",
    "g1=dg(sort(x),fit_x)\n",
    "g2=dg(sort(x),fit2_x)\n",
    "g3=dg(sort(x),fit3_x)\n",
    "\n",
    "\n",
    "hist(x, breaks = 15, probability = T, main=\"Minimum monthly flow of water\", xlab = \"x\",\n",
    "     ylim = c(0,0.06))\n",
    "lines(sort(x), g1, type=\"l\", \n",
    "      pch=16, \n",
    "      lty=3, \n",
    "      lwd=2.0,\n",
    "      col=\"red\") \n",
    "\n",
    "lines(sort(x), g2, type=\"l\", \n",
    "      pch=16, \n",
    "      lty=2, \n",
    "      lwd=2.0,\n",
    "      col=\"black\") \n",
    "\n",
    "lines(sort(x), g3, type=\"l\", \n",
    "      pch=16, \n",
    "      lty=1, \n",
    "      lwd=2.0,\n",
    "      col=\"blue\") \n",
    "\n",
    "legend(\"topright\", inset=.1,\n",
    "       #y=.3,\n",
    "       #title=\"\",\n",
    "       c(\"Fréchet model\",\n",
    "         \"H-extreme (LSE)\",\n",
    "         \"H-extreme (MLE)\"), \n",
    "       lty=c(3,2,1), pch=c(NA),\n",
    "       col=c(\"red\", \"black\", \"blue\")) \n",
    "\n",
    "dev.print(pdf, 'hist_x.pdf')\n",
    "\n",
    "##y\n",
    "g1=dg(sort(y),fit_y)\n",
    "g2=dg(sort(y),fit2_y)\n",
    "g3=dg(sort(y),fit3_y)\n",
    "\n",
    "\n",
    "hist(y, breaks = 15, probability = T, main=\"20 mm carbon fiber strengh\", xlab = \"y\",\n",
    "     ylim = c(0,1))\n",
    "lines(sort(y), g1, type=\"l\", \n",
    "      pch=16, \n",
    "      lty=1, \n",
    "      lwd=2.0,\n",
    "      col=\"red\") \n",
    "\n",
    "lines(sort(y), g2, type=\"l\", \n",
    "      pch=16, \n",
    "      lty=2, \n",
    "      lwd=2.0,\n",
    "      col=\"black\") \n",
    "\n",
    "lines(sort(y), g3, type=\"l\", \n",
    "      pch=16, \n",
    "      lty=3, \n",
    "      lwd=2.0,\n",
    "      col=\"blue\") \n",
    "\n",
    "legend(\"topleft\", inset=.01,\n",
    "       #y=.3,\n",
    "       #title=\"\",\n",
    "       c(\"Weibull model\",\n",
    "         \"H-extreme (LSE)\",\n",
    "         \"H-extreme (MLE)\"), \n",
    "       lty=c(1,2,3), pch=c(NA),\n",
    "       col=c(\"red\", \"black\", \"blue\")) \n",
    "\n",
    "dev.print(pdf, 'hist_y.pdf')\n",
    "\n",
    "##z\n",
    "g1=dg(sort(z),fit_z)\n",
    "g2=dg(sort(z),fit2_z)\n",
    "g3=dg(sort(z),fit3_z)\n",
    "\n",
    "\n",
    "hist(z, breaks = 50, probability = T, main=\"Machine parts failure time\", xlab = \"z\",\n",
    "     ylim = c(0,0.005))\n",
    "lines(sort(z), g1, type=\"l\", \n",
    "      pch=16, \n",
    "      lty=3, \n",
    "      lwd=2.0,\n",
    "      col=\"red\") \n",
    "\n",
    "lines(sort(z), g2, type=\"l\", \n",
    "      pch=16, \n",
    "      lty=2, \n",
    "      lwd=2.0,\n",
    "      col=\"black\") \n",
    "\n",
    "lines(sort(z), g3, type=\"l\", \n",
    "      pch=16, \n",
    "      lty=1, \n",
    "      lwd=2.0,\n",
    "      col=\"blue\") \n",
    "\n",
    "legend(\"topright\", inset=.01,\n",
    "       #y=.3,\n",
    "       #title=\"\",\n",
    "       c(\"Gamma model\",\n",
    "         \"H-extreme (LSE)\",\n",
    "         \"H-extreme (MLE)\"), \n",
    "       lty=c(1,2,3), pch=c(NA),\n",
    "       col=c(\"red\", \"black\", \"blue\")) \n",
    "\n",
    "dev.print(pdf, 'hist_z.pdf')\n",
    "\n",
    "#### ---------------------------------------------\n",
    "### Normal QQPlot\n",
    "### ---------------------------------------------\n",
    "x11()\n",
    "par(mfrow=c(1,3))\n",
    "\n",
    "library(ecostats)\n",
    "residuo1=qnorm(pg(x, fit_x))\n",
    "qqenvelope(residuo1, ylab = \"Randomized Quantile Residuals\",\n",
    "           main = \"Fréchet model\", \n",
    "           cex.main=1.5, cex.lab=1.5)\n",
    "qqline(residuo1, col = 2)\n",
    "\n",
    "residuo2=qnorm(pg(x, fit2_x))\n",
    "qqenvelope(residuo2, ylab = \"Randomized Quantile Residuals\", \n",
    "           main = \"H-extreme (LSE)\", \n",
    "           cex.main=1.5, cex.lab=1.5)\n",
    "qqline(residuo2, col = 2)\n",
    "\n",
    "residuo3=qnorm(pg(x, fit3_x))\n",
    "qqenvelope(residuo3, ylab = \"Randomized Quantile Residuals\",\n",
    "           main = \"H-extreme (MLE)\", \n",
    "           cex.main=1.5, cex.lab=1.5)\n",
    "qqline(residuo3, col = 2)\n",
    "\n",
    "\n",
    "dev.print(pdf, 'qq_x.pdf')\n",
    "\n",
    "\n",
    "residuo1=qnorm(pg(y, fit_y))\n",
    "qqenvelope(residuo1, ylab = \"Randomized Quantile Residuals\",\n",
    "           main = \"Weibull model\", \n",
    "           cex.main=1.5, cex.lab=1.5)\n",
    "qqline(residuo1, col = 2)\n",
    "\n",
    "residuo2=qnorm(pg(y, fit2_y))\n",
    "qqenvelope(residuo2, ylab = \"Randomized Quantile Residuals\",\n",
    "           main = \"H-extreme (LSE)\", \n",
    "           cex.main=1.5, cex.lab=1.5)\n",
    "qqline(residuo2, col = 2)\n",
    "\n",
    "residuo3=qnorm(pg(y, fit3_y))\n",
    "qqenvelope(residuo3, ylab = \"Randomized Quantile Residuals\",\n",
    "           main = \"H-extreme (MLE)\", \n",
    "           cex.main=1.5, cex.lab=1.5)\n",
    "qqline(residuo3, col = 2)\n",
    "\n",
    "dev.print(pdf, 'qq_y.pdf')\n",
    "\n",
    "residuo1=qnorm(pg(z, fit_z))\n",
    "qqenvelope(residuo1, ylab = \"Randomized Quantile Residuals\",\n",
    "           main = \"Gamma model\", \n",
    "           cex.main=1.5, cex.lab=1.5)\n",
    "qqline(residuo1, col = 2)\n",
    "\n",
    "residuo2=qnorm(pg(z, fit2_z))\n",
    "residuo2=residuo2[!is.infinite(residuo2)]\n",
    "qqenvelope(residuo2, ylab = \"Randomized Quantile Residuals\",\n",
    "           main = \"H-extreme (LSE)\", \n",
    "           cex.main=1.5, cex.lab=1.5)\n",
    "qqline(residuo2, col = 2)\n",
    "\n",
    "residuo3=qnorm(pg(z, fit3_z))\n",
    "residuo3=residuo3[!is.infinite(residuo3)]\n",
    "qqenvelope(residuo3, ylab = \"Randomized Quantile Residuals\",\n",
    "           main = \"H-extreme (MLE)\", \n",
    "           cex.main=1.5, cex.lab=1.5)\n",
    "qqline(residuo3, col = 2)\n",
    "\n",
    "dev.print(pdf, 'qq_z.pdf')\n",
    "\n"
   ]
  },
  {
   "cell_type": "code",
   "execution_count": null,
   "metadata": {},
   "outputs": [],
   "source": []
  }
 ],
 "metadata": {
  "kernelspec": {
   "display_name": "R",
   "language": "R",
   "name": "ir"
  },
  "language_info": {
   "codemirror_mode": "r",
   "file_extension": ".r",
   "mimetype": "text/x-r-source",
   "name": "R",
   "pygments_lexer": "r",
   "version": "4.4.3"
  }
 },
 "nbformat": 4,
 "nbformat_minor": 4
}
